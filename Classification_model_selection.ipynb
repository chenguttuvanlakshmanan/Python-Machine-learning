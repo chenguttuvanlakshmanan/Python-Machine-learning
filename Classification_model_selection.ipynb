{
 "cells": [
  {
   "cell_type": "code",
   "execution_count": 1,
   "metadata": {},
   "outputs": [],
   "source": [
    "import pandas as pd\n",
    "from sklearn.preprocessing import StandardScaler\n",
    "from sklearn.model_selection import train_test_split\n",
    "\n",
    "from sklearn.datasets import load_iris\n",
    "from sklearn.svm import LinearSVC\n",
    "from sklearn.svm import SVC\n",
    "from sklearn.ensemble import RandomForestClassifier\n",
    "from sklearn.ensemble import ExtraTreesClassifier\n",
    "from xgboost import XGBClassifier\n",
    "\n",
    "from sklearn.metrics import accuracy_score,f1_score\n",
    "from statistics import mean\n",
    "import seaborn as sns\n",
    "from sklearn.model_selection import train_test_split"
   ]
  },
  {
   "cell_type": "code",
   "execution_count": 2,
   "metadata": {},
   "outputs": [],
   "source": [
    "iris = load_iris()"
   ]
  },
  {
   "cell_type": "code",
   "execution_count": 20,
   "metadata": {},
   "outputs": [],
   "source": [
    "x = iris.data\n",
    "x = StandardScaler().fit_transform(x)\n",
    "y = iris.target\n",
    "X_train, X_test, y_train, y_test = train_test_split(x, y, test_size=0.33, random_state=42)"
   ]
  },
  {
   "cell_type": "code",
   "execution_count": 21,
   "metadata": {},
   "outputs": [],
   "source": [
    "svml = LinearSVC()\n",
    "svm = SVC()\n",
    "rf = RandomForestClassifier()\n",
    "xg = XGBClassifier()\n",
    "xr = ExtraTreesClassifier()\n",
    "\n",
    "classifiers = [ svml,svm,rf,xr,xg]\n",
    "names = [\"Linear SVM\",\"SVM\",\"Random Forest\",\"Randomized Trees\",\"XGBoost\"]\n",
    "result = []"
   ]
  },
  {
   "cell_type": "code",
   "execution_count": 22,
   "metadata": {},
   "outputs": [
    {
     "name": "stderr",
     "output_type": "stream",
     "text": [
      "C:\\Users\\310277092\\AppData\\Local\\Continuum\\anaconda3\\lib\\site-packages\\sklearn\\svm\\base.py:193: FutureWarning: The default value of gamma will change from 'auto' to 'scale' in version 0.22 to account better for unscaled features. Set gamma explicitly to 'auto' or 'scale' to avoid this warning.\n",
      "  \"avoid this warning.\", FutureWarning)\n",
      "C:\\Users\\310277092\\AppData\\Local\\Continuum\\anaconda3\\lib\\site-packages\\sklearn\\ensemble\\forest.py:245: FutureWarning: The default value of n_estimators will change from 10 in version 0.20 to 100 in 0.22.\n",
      "  \"10 in version 0.20 to 100 in 0.22.\", FutureWarning)\n",
      "C:\\Users\\310277092\\AppData\\Local\\Continuum\\anaconda3\\lib\\site-packages\\sklearn\\ensemble\\forest.py:245: FutureWarning: The default value of n_estimators will change from 10 in version 0.20 to 100 in 0.22.\n",
      "  \"10 in version 0.20 to 100 in 0.22.\", FutureWarning)\n"
     ]
    }
   ],
   "source": [
    "for name,clf in zip(names,classifiers):\n",
    "    model = clf.fit(X_train,y_train)\n",
    "    ypred = model.predict(X_test)\n",
    "    accuracy = accuracy_score(ypred,y_test)\n",
    "    f1 = mean(f1_score(y_test,ypred,average=None))\n",
    "    result.append([name,accuracy,f1])"
   ]
  },
  {
   "cell_type": "code",
   "execution_count": 23,
   "metadata": {},
   "outputs": [
    {
     "data": {
      "text/html": [
       "<style  type=\"text/css\" >\n",
       "    #T_a12f27ca_14e3_11ea_aedb_e4a7a06c12adrow0_col1 {\n",
       "            background-color:  #f7fcf5;\n",
       "            color:  #000000;\n",
       "        }    #T_a12f27ca_14e3_11ea_aedb_e4a7a06c12adrow0_col2 {\n",
       "            background-color:  #f7fcf5;\n",
       "            color:  #000000;\n",
       "        }    #T_a12f27ca_14e3_11ea_aedb_e4a7a06c12adrow1_col1 {\n",
       "            background-color:  #37a055;\n",
       "            color:  #000000;\n",
       "        }    #T_a12f27ca_14e3_11ea_aedb_e4a7a06c12adrow1_col2 {\n",
       "            background-color:  #369f54;\n",
       "            color:  #000000;\n",
       "        }    #T_a12f27ca_14e3_11ea_aedb_e4a7a06c12adrow2_col1 {\n",
       "            background-color:  #00441b;\n",
       "            color:  #f1f1f1;\n",
       "        }    #T_a12f27ca_14e3_11ea_aedb_e4a7a06c12adrow2_col2 {\n",
       "            background-color:  #00441b;\n",
       "            color:  #f1f1f1;\n",
       "        }    #T_a12f27ca_14e3_11ea_aedb_e4a7a06c12adrow3_col1 {\n",
       "            background-color:  #37a055;\n",
       "            color:  #000000;\n",
       "        }    #T_a12f27ca_14e3_11ea_aedb_e4a7a06c12adrow3_col2 {\n",
       "            background-color:  #369f54;\n",
       "            color:  #000000;\n",
       "        }    #T_a12f27ca_14e3_11ea_aedb_e4a7a06c12adrow4_col1 {\n",
       "            background-color:  #37a055;\n",
       "            color:  #000000;\n",
       "        }    #T_a12f27ca_14e3_11ea_aedb_e4a7a06c12adrow4_col2 {\n",
       "            background-color:  #369f54;\n",
       "            color:  #000000;\n",
       "        }</style><table id=\"T_a12f27ca_14e3_11ea_aedb_e4a7a06c12ad\" ><thead>    <tr>        <th class=\"blank level0\" ></th>        <th class=\"col_heading level0 col0\" >Model</th>        <th class=\"col_heading level0 col1\" >Accuracy</th>        <th class=\"col_heading level0 col2\" >F1_SCORE</th>    </tr></thead><tbody>\n",
       "                <tr>\n",
       "                        <th id=\"T_a12f27ca_14e3_11ea_aedb_e4a7a06c12adlevel0_row0\" class=\"row_heading level0 row0\" >0</th>\n",
       "                        <td id=\"T_a12f27ca_14e3_11ea_aedb_e4a7a06c12adrow0_col0\" class=\"data row0 col0\" >Linear SVM</td>\n",
       "                        <td id=\"T_a12f27ca_14e3_11ea_aedb_e4a7a06c12adrow0_col1\" class=\"data row0 col1\" >0.94</td>\n",
       "                        <td id=\"T_a12f27ca_14e3_11ea_aedb_e4a7a06c12adrow0_col2\" class=\"data row0 col2\" >0.935214</td>\n",
       "            </tr>\n",
       "            <tr>\n",
       "                        <th id=\"T_a12f27ca_14e3_11ea_aedb_e4a7a06c12adlevel0_row1\" class=\"row_heading level0 row1\" >1</th>\n",
       "                        <td id=\"T_a12f27ca_14e3_11ea_aedb_e4a7a06c12adrow1_col0\" class=\"data row1 col0\" >SVM</td>\n",
       "                        <td id=\"T_a12f27ca_14e3_11ea_aedb_e4a7a06c12adrow1_col1\" class=\"data row1 col1\" >0.98</td>\n",
       "                        <td id=\"T_a12f27ca_14e3_11ea_aedb_e4a7a06c12adrow1_col2\" class=\"data row1 col2\" >0.978495</td>\n",
       "            </tr>\n",
       "            <tr>\n",
       "                        <th id=\"T_a12f27ca_14e3_11ea_aedb_e4a7a06c12adlevel0_row2\" class=\"row_heading level0 row2\" >2</th>\n",
       "                        <td id=\"T_a12f27ca_14e3_11ea_aedb_e4a7a06c12adrow2_col0\" class=\"data row2 col0\" >Random Forest</td>\n",
       "                        <td id=\"T_a12f27ca_14e3_11ea_aedb_e4a7a06c12adrow2_col1\" class=\"data row2 col1\" >1</td>\n",
       "                        <td id=\"T_a12f27ca_14e3_11ea_aedb_e4a7a06c12adrow2_col2\" class=\"data row2 col2\" >1</td>\n",
       "            </tr>\n",
       "            <tr>\n",
       "                        <th id=\"T_a12f27ca_14e3_11ea_aedb_e4a7a06c12adlevel0_row3\" class=\"row_heading level0 row3\" >3</th>\n",
       "                        <td id=\"T_a12f27ca_14e3_11ea_aedb_e4a7a06c12adrow3_col0\" class=\"data row3 col0\" >Randomized Trees</td>\n",
       "                        <td id=\"T_a12f27ca_14e3_11ea_aedb_e4a7a06c12adrow3_col1\" class=\"data row3 col1\" >0.98</td>\n",
       "                        <td id=\"T_a12f27ca_14e3_11ea_aedb_e4a7a06c12adrow3_col2\" class=\"data row3 col2\" >0.978495</td>\n",
       "            </tr>\n",
       "            <tr>\n",
       "                        <th id=\"T_a12f27ca_14e3_11ea_aedb_e4a7a06c12adlevel0_row4\" class=\"row_heading level0 row4\" >4</th>\n",
       "                        <td id=\"T_a12f27ca_14e3_11ea_aedb_e4a7a06c12adrow4_col0\" class=\"data row4 col0\" >XGBoost</td>\n",
       "                        <td id=\"T_a12f27ca_14e3_11ea_aedb_e4a7a06c12adrow4_col1\" class=\"data row4 col1\" >0.98</td>\n",
       "                        <td id=\"T_a12f27ca_14e3_11ea_aedb_e4a7a06c12adrow4_col2\" class=\"data row4 col2\" >0.978495</td>\n",
       "            </tr>\n",
       "    </tbody></table>"
      ],
      "text/plain": [
       "<pandas.io.formats.style.Styler at 0x20cadb04630>"
      ]
     },
     "execution_count": 23,
     "metadata": {},
     "output_type": "execute_result"
    }
   ],
   "source": [
    "final = pd.DataFrame(result,columns = [\"Model\",\"Accuracy\",\"F1_SCORE\"])\n",
    "final.style.background_gradient(cmap = \"Greens\")"
   ]
  },
  {
   "cell_type": "code",
   "execution_count": null,
   "metadata": {},
   "outputs": [],
   "source": []
  }
 ],
 "metadata": {
  "kernelspec": {
   "display_name": "Python 3",
   "language": "python",
   "name": "python3"
  },
  "language_info": {
   "codemirror_mode": {
    "name": "ipython",
    "version": 3
   },
   "file_extension": ".py",
   "mimetype": "text/x-python",
   "name": "python",
   "nbconvert_exporter": "python",
   "pygments_lexer": "ipython3",
   "version": "3.7.3"
  },
  "varInspector": {
   "cols": {
    "lenName": 16,
    "lenType": 16,
    "lenVar": 40
   },
   "kernels_config": {
    "python": {
     "delete_cmd_postfix": "",
     "delete_cmd_prefix": "del ",
     "library": "var_list.py",
     "varRefreshCmd": "print(var_dic_list())"
    },
    "r": {
     "delete_cmd_postfix": ") ",
     "delete_cmd_prefix": "rm(",
     "library": "var_list.r",
     "varRefreshCmd": "cat(var_dic_list()) "
    }
   },
   "types_to_exclude": [
    "module",
    "function",
    "builtin_function_or_method",
    "instance",
    "_Feature"
   ],
   "window_display": false
  }
 },
 "nbformat": 4,
 "nbformat_minor": 2
}
