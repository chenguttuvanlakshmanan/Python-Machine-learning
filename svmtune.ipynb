{
 "metadata": {
  "language_info": {
   "codemirror_mode": {
    "name": "ipython",
    "version": 3
   },
   "file_extension": ".py",
   "mimetype": "text/x-python",
   "name": "python",
   "nbconvert_exporter": "python",
   "pygments_lexer": "ipython3",
   "version": "3.7.1-final"
  },
  "orig_nbformat": 2,
  "kernelspec": {
   "name": "python_defaultSpec_1600671717736",
   "display_name": "Python 3.7.1 64-bit"
  }
 },
 "nbformat": 4,
 "nbformat_minor": 2,
 "cells": [
  {
   "cell_type": "code",
   "execution_count": 1,
   "metadata": {},
   "outputs": [],
   "source": [
    "from sklearn.datasets import load_iris"
   ]
  },
  {
   "cell_type": "code",
   "execution_count": 2,
   "metadata": {},
   "outputs": [],
   "source": [
    "iris = load_iris()"
   ]
  },
  {
   "cell_type": "code",
   "execution_count": 3,
   "metadata": {},
   "outputs": [],
   "source": [
    "x = iris.data\n",
    "y = iris.target"
   ]
  },
  {
   "cell_type": "code",
   "execution_count": 9,
   "metadata": {},
   "outputs": [],
   "source": [
    "from sklearn.svm import SVC\n",
    "sv = SVC(kernel='poly',degree=8)"
   ]
  },
  {
   "cell_type": "code",
   "execution_count": 10,
   "metadata": {},
   "outputs": [],
   "source": [
    "from sklearn.model_selection import train_test_split\n",
    "x_train,x_test,y_train,y_test = train_test_split(x ,y , test_size = 0.3)"
   ]
  },
  {
   "cell_type": "code",
   "execution_count": 11,
   "metadata": {},
   "outputs": [],
   "source": [
    "sv.fit(x_train,y_train)\n",
    "ypred = sv.predict(x_test)"
   ]
  },
  {
   "cell_type": "code",
   "execution_count": 12,
   "metadata": {
    "tags": []
   },
   "outputs": [
    {
     "output_type": "stream",
     "name": "stdout",
     "text": "precision    recall  f1-score   support\n\n           0       1.00      1.00      1.00        20\n           1       1.00      0.88      0.93        16\n           2       0.82      1.00      0.90         9\n\n    accuracy                           0.96        45\n   macro avg       0.94      0.96      0.94        45\nweighted avg       0.96      0.96      0.96        45\n\n"
    }
   ],
   "source": [
    "from sklearn.metrics import classification_report\n",
    "print(classification_report(ypred,y_test))"
   ]
  },
  {
   "cell_type": "code",
   "execution_count": 14,
   "metadata": {},
   "outputs": [
    {
     "output_type": "execute_result",
     "data": {
      "text/plain": "GridSearchCV(estimator=SVC(),\n             param_grid=[{'degree': [2, 3, 4, 5, 6, 7, 8, 9, 10],\n                          'kernel': ['poly']}])"
     },
     "metadata": {},
     "execution_count": 14
    }
   ],
   "source": [
    "#hyper parameter tuning\n",
    "param_grid = [{'kernel': ['poly'],'degree':[2,3,4,5,6,7,8,9,10]}]\n",
    "\n",
    "from sklearn.model_selection import GridSearchCV\n",
    "model = GridSearchCV(SVC(),param_grid=param_grid)\n",
    "model.fit(x_train,y_train)"
   ]
  },
  {
   "cell_type": "code",
   "execution_count": 15,
   "metadata": {},
   "outputs": [
    {
     "output_type": "execute_result",
     "data": {
      "text/plain": "{'degree': 2, 'kernel': 'poly'}"
     },
     "metadata": {},
     "execution_count": 15
    }
   ],
   "source": [
    "model.best_params_"
   ]
  },
  {
   "cell_type": "code",
   "execution_count": 16,
   "metadata": {
    "tags": []
   },
   "outputs": [
    {
     "output_type": "stream",
     "name": "stdout",
     "text": "precision    recall  f1-score   support\n\n           0       1.00      1.00      1.00        20\n           1       0.93      1.00      0.96        13\n           2       1.00      0.92      0.96        12\n\n    accuracy                           0.98        45\n   macro avg       0.98      0.97      0.97        45\nweighted avg       0.98      0.98      0.98        45\n\n"
    }
   ],
   "source": [
    "ypred = model.predict(x_test)\n",
    "from sklearn.metrics import classification_report\n",
    "print(classification_report(ypred,y_test))"
   ]
  },
  {
   "cell_type": "code",
   "execution_count": 20,
   "metadata": {},
   "outputs": [
    {
     "output_type": "execute_result",
     "data": {
      "text/plain": "GridSearchCV(cv=3, estimator=SVC(),\n             param_grid=[{'C': [0.01, 0.1, 1, 10, 100, 1000],\n                          'gamma': [0.1, 0.5, 0.01, 0.001, 0.3],\n                          'kernel': ['rbf']}])"
     },
     "metadata": {},
     "execution_count": 20
    }
   ],
   "source": [
    "param_grid = [{'kernel': ['rbf'],'C':[0.01,0.1,1,10,100,1000] , 'gamma':[0.1,0.5,0.01,0.001,0.3]}]\n",
    "from sklearn.model_selection import GridSearchCV\n",
    "model = GridSearchCV(SVC(),param_grid=param_grid,cv=3)\n",
    "model.fit(x_train,y_train)\n"
   ]
  },
  {
   "cell_type": "code",
   "execution_count": 22,
   "metadata": {
    "tags": []
   },
   "outputs": [
    {
     "output_type": "stream",
     "name": "stdout",
     "text": "precision    recall  f1-score   support\n\n           0       1.00      1.00      1.00        20\n           1       1.00      1.00      1.00        14\n           2       1.00      1.00      1.00        11\n\n    accuracy                           1.00        45\n   macro avg       1.00      1.00      1.00        45\nweighted avg       1.00      1.00      1.00        45\n\n[[20  0  0]\n [ 0 14  0]\n [ 0  0 11]]\n"
    }
   ],
   "source": [
    "ypred = model.predict(x_test)\n",
    "from sklearn.metrics import classification_report,confusion_matrix\n",
    "print(classification_report(ypred,y_test))\n",
    "print(confusion_matrix(ypred,y_test))"
   ]
  },
  {
   "cell_type": "code",
   "execution_count": null,
   "metadata": {},
   "outputs": [],
   "source": []
  }
 ]
}